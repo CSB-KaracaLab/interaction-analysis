{
 "cells": [
  {
   "cell_type": "code",
   "execution_count": null,
   "metadata": {},
   "outputs": [],
   "source": [
    "import os\n",
    "import pandas as pd\n",
    "import seaborn as sns\n",
    "import matplotlib.pyplot as plt\n",
    "import csv\n",
    "import warnings\n",
    "warnings.filterwarnings('ignore')"
   ]
  },
  {
   "cell_type": "code",
   "execution_count": null,
   "metadata": {},
   "outputs": [],
   "source": [
    "for subdir in ['merged_outputs','graphs']:\n",
    "    if not os.path.exists(subdir):\n",
    "        os.makedirs(subdir)"
   ]
  },
  {
   "cell_type": "code",
   "execution_count": null,
   "metadata": {},
   "outputs": [],
   "source": [
    "input_files = os.path.join('input_files')\n",
    "out_files = os.path.join('merged_outputs')\n",
    "\n",
    "files_list = os.listdir(input_files)\n",
    "print(files_list)\n",
    "\n",
    "for i in range(0,len(files_list)):\n",
    "    if files_list[i].endswith(\".interfacea\"):\n",
    "        with open(input_files +\"/\"+ files_list[i], \"r\") as f:\n",
    "            lines = f.readlines()\n",
    "        \n",
    "        with open(out_files +\"/\"+ \"hydrophobics\",\"a\") as d:\n",
    "            for j in range(1,len(lines)):\n",
    "                if lines[j].split()[1] == 'hydrophobic':\n",
    "                    for  k in range(1,len(lines[j].split())-1):\n",
    "                        d.write(lines[j].split()[k] + \"\\t\")\n",
    "                    d.write(lines[j].split()[-1] +\"\\n\")\n",
    "                    \n",
    "        with open(out_files +\"/\" + \"hbonds\",\"a\") as d:\n",
    "            for j in range(1,len(lines)):\n",
    "                if lines[j].split()[1] == 'hbond':\n",
    "                    for  k in range(1,len(lines[j].split())-1):\n",
    "                        d.write(lines[j].split()[k] + \"\\t\")\n",
    "                    d.write(lines[j].split()[-1] +\"\\n\")\n",
    "                    \n",
    "        with open(out_files +\"/\" + \"ionics\",\"a\") as d:\n",
    "            for j in range(1,len(lines)):\n",
    "                if lines[j].split()[1] == 'ionic':\n",
    "                    for  k in range(1,len(lines[j].split())-1):\n",
    "                        d.write(lines[j].split()[k] + \"\\t\")\n",
    "                    d.write(lines[j].split()[-1] +\"\\n\")"
   ]
  },
  {
   "cell_type": "code",
   "execution_count": null,
   "metadata": {},
   "outputs": [],
   "source": [
    "a=pd.read_csv(out_files+\"/hbonds\", sep=\"\\t\", header=None)\n",
    "\n",
    "a.columns = [\"itype\", \"chain_a\", \"chain_b\", \"resname_a\", \"resname_b\", \"resid_a\", \"resid_b\",\"atom_a\", \"atom_b\" ]\n",
    "a"
   ]
  },
  {
   "cell_type": "code",
   "execution_count": null,
   "metadata": {},
   "outputs": [],
   "source": [
    "a[\"resname_a\"] = a[\"resname_a\"].astype(str) + a[\"resid_a\"].astype(str)\n",
    "a[\"resname_b\"] = a[\"resname_b\"].astype(str) + a[\"resid_b\"].astype(str)\n",
    "\n",
    "b=a.drop(columns=['resid_a','resid_b'])\n",
    "b"
   ]
  },
  {
   "cell_type": "markdown",
   "metadata": {},
   "source": [
    "### Intermonomer interactions"
   ]
  },
  {
   "cell_type": "code",
   "execution_count": null,
   "metadata": {},
   "outputs": [],
   "source": [
    "b_inter = b.loc[((b[\"chain_a\"] == \"A\") & (b[\"chain_b\"] == \"B\")) | ((b[\"chain_a\"] == \"A\") & (b[\"chain_b\"] == \"C\")) ]\n",
    "b_inter"
   ]
  },
  {
   "cell_type": "markdown",
   "metadata": {},
   "source": [
    "### Pairwise interactions\n"
   ]
  },
  {
   "cell_type": "code",
   "execution_count": null,
   "metadata": {},
   "outputs": [],
   "source": [
    "b_inter['pairwise'] = b_inter['resname_a'].str.cat(b_inter['resname_b'],sep=\"-\")\n",
    "b_inter"
   ]
  },
  {
   "cell_type": "markdown",
   "metadata": {},
   "source": [
    "### Interaction frequencies"
   ]
  },
  {
   "cell_type": "code",
   "execution_count": null,
   "metadata": {},
   "outputs": [],
   "source": [
    "b_inter['aa_freq'] = b_inter.groupby('resname_a')['resname_a'].transform('count')\n",
    "b_inter['nuc_freq'] = b_inter.groupby('resname_b')['resname_b'].transform('count')\n",
    "b_inter['all_freq'] = b_inter.groupby('itype')['itype'].transform('count')\n",
    "b_inter['pair_freq'] = b_inter.groupby('pairwise')['pairwise'].transform('count')\n",
    "\n",
    "b_inter\n",
    "\n",
    "#b_inter_sorted=b_inter.sort_values(('pair_freq') , ascending=False)\n"
   ]
  },
  {
   "cell_type": "markdown",
   "metadata": {},
   "source": [
    "## Amino-acid and nucleotide specific interactions"
   ]
  },
  {
   "cell_type": "code",
   "execution_count": null,
   "metadata": {},
   "outputs": [],
   "source": [
    "b_spec_nuc = b_inter.drop(b_inter.index[b_inter['atom_b'].isin([\"P\",\"O1P\",\"OP1\",\"OP2\",\"O2P\",\"C5'\",\n",
    "                                                           \"O5'\",\"C4'\",\"O4'\",\"C3'\",\"O3'\",\"C2'\",\n",
    "                                                           \"C1'\",\"H1'\",\"1H2'\",\"2H2'\",\"H3'\",\"H4'\",\"1H5'\",\"2H5'\"])])\n",
    "\n",
    "\n",
    "b_spec_nuc_and_res = b_spec_nuc.drop(b_spec_nuc.index[b_spec_nuc['atom_a'].isin([\"N\",\"CA\",\"C\",\"O\",\"H\",\"HA\"])])\n",
    "b_spec_nuc_and_res"
   ]
  },
  {
   "cell_type": "markdown",
   "metadata": {},
   "source": [
    "### Recalculate the changed frequency"
   ]
  },
  {
   "cell_type": "code",
   "execution_count": null,
   "metadata": {},
   "outputs": [],
   "source": [
    "b_spec_nuc_and_res['aa_freq'] = b_spec_nuc_and_res.groupby('resname_a')['resname_a'].transform('count')\n",
    "b_spec_nuc_and_res['nuc_freq'] = b_spec_nuc_and_res.groupby('resname_b')['resname_b'].transform('count')\n",
    "b_spec_nuc_and_res['all_freq'] = b_spec_nuc_and_res.groupby('itype')['itype'].transform('count')\n",
    "\n",
    "b_spec_nuc_and_res"
   ]
  },
  {
   "cell_type": "markdown",
   "metadata": {},
   "source": [
    "## Let's visualize our interaction data"
   ]
  },
  {
   "cell_type": "code",
   "execution_count": null,
   "metadata": {},
   "outputs": [],
   "source": [
    "graphs = os.path.join('graphs')\n",
    "\n",
    "plt.figure(figsize=(10,8))\n",
    "ax = sns.barplot(x=\"pairwise\", y=\"pair_freq\", palette=\"Greens_r\", data=b_spec_nuc_and_res)\n",
    "plt.xticks(rotation='vertical')\n",
    "\n",
    "\n",
    "plt.xticks(fontsize=13, fontweight='bold')\n",
    "plt.yticks(fontsize=13, fontweight='bold')\n",
    "#plt.ylim(ymax = 0.38, ymin = -0.02)\n",
    "plt.xlabel('Interactions',  fontweight='bold')\n",
    "plt.ylabel('Number of H-bonds', fontweight='bold')\n",
    "plt.title(\"Base-specific H-bond profile\", fontweight='bold')\n",
    "\n",
    "plt.savefig(graphs+\"/base-spec-hbond-pairwise.png\", dpi=600, bbox_inches='tight', format=\"png\")\n"
   ]
  },
  {
   "cell_type": "code",
   "execution_count": null,
   "metadata": {},
   "outputs": [],
   "source": []
  }
 ],
 "metadata": {
  "kernelspec": {
   "display_name": "Python 3",
   "language": "python",
   "name": "python3"
  },
  "language_info": {
   "codemirror_mode": {
    "name": "ipython",
    "version": 3
   },
   "file_extension": ".py",
   "mimetype": "text/x-python",
   "name": "python",
   "nbconvert_exporter": "python",
   "pygments_lexer": "ipython3",
   "version": "3.8.3"
  }
 },
 "nbformat": 4,
 "nbformat_minor": 4
}
